{
 "cells": [
  {
   "cell_type": "code",
   "execution_count": 8,
   "metadata": {
    "scrolled": true
   },
   "outputs": [
    {
     "name": "stderr",
     "output_type": "stream",
     "text": [
      "E:\\Anaconda\\lib\\site-packages\\rdkit\\Chem\\PandasTools.py:416: SettingWithCopyWarning: \n",
      "A value is trying to be set on a copy of a slice from a DataFrame.\n",
      "Try using .loc[row_indexer,col_indexer] = value instead\n",
      "\n",
      "See the caveats in the documentation: https://pandas.pydata.org/pandas-docs/stable/user_guide/indexing.html#returning-a-view-versus-a-copy\n",
      "  frame[molCol] = frame[smilesCol].map(Chem.MolFromSmiles)\n",
      "100%|██████████████████████████████████████████████████████████████████████████████████| 53/53 [00:03<00:00, 15.83it/s]\n",
      "100%|██████████████████████████████████████████████████████████████████████████████████| 13/13 [00:02<00:00,  5.71it/s]\n",
      "100%|████████████████████████████████████████████████████████████████████████████████████| 6/6 [00:01<00:00,  4.40it/s]\n"
     ]
    }
   ],
   "source": [
    "#运行1\n",
    "import pandas as pd\n",
    "from mordred import Calculator, descriptors\n",
    "from rdkit import Chem, DataStructs\n",
    "from rdkit.Chem import AllChem\n",
    "from rdkit.ML.Descriptors import MoleculeDescriptors\n",
    "from rdkit.Chem import Descriptors\n",
    "from rdkit.Chem.EState import Fingerprinter\n",
    "from rdkit.Chem import PandasTools\n",
    "from sklearn.preprocessing import StandardScaler \n",
    "\n",
    "# 读取数据表\n",
    "data = pd.read_csv('MR20241113.csv')  # 替换为您的数据表路径和名称\n",
    "pre_data = pd.read_csv('MR-20241016.csv') \n",
    "# 分割训练集和验证集\n",
    "train_data = data[data['group'] == 'training']\n",
    "test_data = data[data['group'] == 'test']\n",
    "\n",
    "PandasTools.AddMoleculeColumnToFrame(train_data,'smiles','Molecule')\n",
    "PandasTools.AddMoleculeColumnToFrame(test_data,'smiles','Molecule')\n",
    "PandasTools.AddMoleculeColumnToFrame(pre_data,'smiles','Molecule')\n",
    "\n",
    "calc = Calculator(descriptors, ignore_3D=True)\n",
    "X_train = pd.DataFrame(calc.pandas(train_data['Molecule']))\n",
    "X_test = pd.DataFrame(calc.pandas(test_data['Molecule']))\n",
    "X_pre = pd.DataFrame(calc.pandas(pre_data['Molecule']))\n",
    "\n",
    "data1=pd.concat([X_train,X_test])\n",
    "data1=pd.concat([data1,X_pre])\n",
    "data1=data1._get_numeric_data()\n",
    "y_train=train_data[train_data.columns[4]].values\n",
    "y_test=test_data[test_data.columns[4]].values\n",
    "y_pre=pre_data[pre_data.columns[4]].values\n",
    "X_train=pd.concat([train_data.iloc[:,5:9],data1.iloc[:53,:]],axis=1)\n",
    "X_test=pd.concat([test_data.iloc[:,5:9],data1.iloc[53:66,:]],axis=1)\n",
    "X_pre=pd.concat([pre_data.iloc[:,5:9],data1.iloc[66:,:]],axis=1)"
   ]
  },
  {
   "cell_type": "code",
   "execution_count": 2,
   "metadata": {},
   "outputs": [
    {
     "name": "stdout",
     "output_type": "stream",
     "text": [
      "100%|██████████████████████████████████████████████████| 10/10 [06:14<00:00, 37.46s/it, best loss: 0.22378996715862862]\n",
      "Best Hyperparameters:\n",
      "{'learning_rate': 3, 'max_depth': 0, 'n_estimators': 6}\n"
     ]
    }
   ],
   "source": [
    "import warnings\n",
    "import pandas as pd\n",
    "from sklearn.ensemble import GradientBoostingRegressor\n",
    "from sklearn.model_selection import KFold \n",
    "from sklearn.model_selection import cross_val_score\n",
    "import sklearn.metrics                                                                                                                                                                                                                                                                                                                                                                                                                                                                                                                                                                                                                                                                                                                                                                                                                                                                                                                                                                                                                                                                                                                                                                                                                                                                                                                                                                                                                                                                                                                                                                                                                                                                                                                                                                                                                                                                                                                                                                                                                                                                                                                                                                                                                                                                                                                                                                                                                                                                                                                                                                                                                                                                                                                                                                                                                                                                                                                                                                                                                                                                                                                                                                                                                                                                                                                                                                                                                                                                                                                                                                                                                                                                                                                                                                                                                                                                                                                                                                                                                                                                                                                                                                                                                                                                                                                                                                                                                                                                                                                                                                                                                                                                                                                                                                                                                                                                                                                                                                                                                                                                                                                                                                                                                                                                                                                                                                                                                                                                                                                                                                                                                                                                                                                                                                                                                                                                                                                                                                                                                                                                                                                                                                                                                                                                                                                                                                                                                                                                                                                                                                                                                                                                                                                                                                                                                                                                                                                                                                                                                                                                                                                                                                                                                                                                                                                                                                                                                                                                                                                                                                                                                                                                                                                                                                                                                                                                                                                                                                                                                                                                                                                                                                                                                                                                                                                                                                                                                                                                                                                                                                                                                                                                                                                                                                                                                                                                                                                                                                                                                                                                                                                                                                                                                                                                                                                                                                                                                                                                                                                                                                                                                                                                                                                                                                                                                                                                                                                                                                                                                                                                                                                                                                                                                                                                                                                                                                                                                                                                                                                                                                                                                                                                                                                                                                                                                                                                                                                                                                                                                                                                                                                                                                                                                                                                                                                                                                                                                                                                                                                                                                                                                                                                                                                                                                                                                                                                                                                                                                                                                                                                                                                                                                                                                                                                                                                                                                                                                                                                                                                                                                                          \n",
    "import numpy as np\n",
    "from sklearn.datasets import load_boston\n",
    "from sklearn.metrics import mean_squared_error\n",
    "from hyperopt import hp, fmin, tpe, Trials\n",
    "\n",
    "space = {\n",
    "    'n_estimators': hp.choice('n_estimators',(100,200,300,400,500,600,700,800,900,1000)),\n",
    "    'max_depth': hp.choice('max_depth', (1,2,3,4,5,6,7,8,9, 10)),\n",
    "    'learning_rate': hp.choice('learning_rate', (0.0001,0.001,0.01,0.1,1)),\n",
    "}\n",
    "\n",
    "# Define the objective function\n",
    "# Define the objective function\n",
    "def objective(params):\n",
    "    # Build the GradientBoostingRegressor model\n",
    "    model = GradientBoostingRegressor(\n",
    "        n_estimators=params['n_estimators'],\n",
    "        max_depth=params['max_depth'],\n",
    "        learning_rate=params['learning_rate'],\n",
    "        random_state=42\n",
    "    )\n",
    "\n",
    "    # Calculate cross-validated RMSE\n",
    "    cv_rmse = np.sqrt(-cross_val_score(model, X_train, y_train, cv=10, scoring='neg_mean_squared_error'))\n",
    "\n",
    "    # Return the mean RMSE as the objective value\n",
    "    return np.mean(cv_rmse)\n",
    "\n",
    "# Run hyperparameter optimization\n",
    "trials = Trials()\n",
    "best = fmin(\n",
    "    objective,\n",
    "    space=space,\n",
    "    algo=tpe.suggest,\n",
    "    max_evals=10,\n",
    "    trials=trials\n",
    ")\n",
    "\n",
    "# Output the best hyperparameters\n",
    "print(\"Best Hyperparameters:\")\n",
    "print(best)"
   ]
  },
  {
   "cell_type": "code",
   "execution_count": 3,
   "metadata": {},
   "outputs": [
    {
     "name": "stdout",
     "output_type": "stream",
     "text": [
      "Best Hyperparameters:\n",
      "{'learning_rate': 3, 'max_depth': 0, 'n_estimators': 6}\n"
     ]
    }
   ],
   "source": [
    "print(\"Best Hyperparameters:\")\n",
    "print(best)"
   ]
  },
  {
   "cell_type": "code",
   "execution_count": 9,
   "metadata": {},
   "outputs": [
    {
     "name": "stdout",
     "output_type": "stream",
     "text": [
      "Training Set - R2: 0.8090, MAE: 0.0914, RMSE: 0.1269\n",
      "Validation Set - R2: 0.6660, MAE: 0.1417, RMSE: 0.2031\n"
     ]
    },
    {
     "data": {
      "image/png": "[encoded data removed]",
      "text/plain": [
       "<Figure size 432x288 with 1 Axes>"
      ]
     },
     "metadata": {
      "needs_background": "light"
     },
     "output_type": "display_data"
    }
   ],
   "source": [
    "#运行2\n",
    "import warnings\n",
    "import pandas as pd\n",
    "from sklearn.ensemble import GradientBoostingRegressor\n",
    "from sklearn.model_selection import KFold \n",
    "from sklearn.model_selection import cross_val_score\n",
    "import sklearn.metrics                                                                                                                                                                                                                                                                                                                                                                                                                                                                                                                                                                                                                                                                                                                                                                                                                                                                                                                                                                                                                                                                                                                                                                                                                                                                                                                                                                                                                                                                                                                                                                                                                                                                                                                                                                                                                                                                                                                                                                                                                                                                                                                                                                                                                                                                                                                                                                                                                                                                                                                                                                                                                                                                                                                                                                                                                                                                                                                                                                                                                                                                                                                                                                                                                                                                                                                                                                                                                                                                                                                                                                                                                                                                                                                                                                                                                                                                                                                                                                                                                                                                                                                                                                                                                                                                                                                                                                                                                                                                                                                                                                                                                                                                                                                                                                                                                                                                                                                                                                                                                                                                                                                                                                                                                                                                                                                                                                                                                                                                                                                                                                                                                                                                                                                                                                                                                                                                                                                                                                                                                                                                                                                                                                                                                                                                                                                                                                                                                                                                                                                                                                                                                                                                                                                                                                                                                                                                                                                                                                                                                                                                                                                                                                                                                                                                                                                                                                                                                                                                                                                                                                                                                                                                                                                                                                                                                                                                                                                                                                                                                                                                                                                                                                                                                                                                                                                                                                                                                                                                                                                                                                                                                                                                                                                                                                                                                                                                                                                                                                                                                                                                                                                                                                                                                                                                                                                                                                                                                                                                                                                                                                                                                                                                                                                                                                                                                                                                                                                                                                                                                                                                                                                                                                                                                                                                                                                                                                                                                                                                                                                                                                                                                                                                                                                                                                                                                                                                                                                                                                                                                                                                                                                                                                                                                                                                                                                                                                                                                                                                                                                                                                                                                                                                                                                                                                                                                                                                                                                                                                                                                                                                                                                                                                                                                                                                                                                                                                                                                                                                                                                                                                                          \n",
    "import numpy as np\n",
    "from sklearn.datasets import load_boston\n",
    "from sklearn.metrics import mean_squared_error\n",
    "from hyperopt import hp, fmin, tpe, Trials\n",
    "import matplotlib.pyplot as plt\n",
    "from sklearn.metrics import r2_score, mean_absolute_error, mean_squared_error\n",
    "from sklearn.model_selection import train_test_split\n",
    "model=GradientBoostingRegressor(learning_rate=0.1,max_depth=1, n_estimators=700,random_state=42)\n",
    "\n",
    "model.fit(X_train, y_train)\n",
    "\n",
    "# 在训练集和验证集上进行预测\n",
    "y_train_pred = model.predict(X_train)\n",
    "y_test_pred = model.predict(X_test)\n",
    "\n",
    "# 计算 R2 分数\n",
    "r2_train = r2_score(y_train, y_train_pred)\n",
    "r2_val = r2_score(y_test, y_test_pred)\n",
    "\n",
    "# 计算 MAE 和 MSE\n",
    "mae_train = mean_absolute_error(y_train, y_train_pred)\n",
    "mae_val = mean_absolute_error(y_test, y_test_pred)\n",
    "rmse_train = np.sqrt(mean_squared_error(y_train, y_train_pred))\n",
    "rmse_val = np.sqrt(mean_squared_error(y_test, y_test_pred))\n",
    "\n",
    "# 打印结果\n",
    "print(\"Training Set - R2: {:.4f}, MAE: {:.4f}, RMSE: {:.4f}\".format(r2_train, mae_train, rmse_train))\n",
    "print(\"Validation Set - R2: {:.4f}, MAE: {:.4f}, RMSE: {:.4f}\".format(r2_val, mae_val, rmse_val))\n",
    "\n",
    "# 绘制散点图\n",
    "plt.scatter(y_train, y_train_pred, color='blue', label='Training Set')\n",
    "plt.scatter(y_test, y_test_pred, color='red', label='Validation Set')\n",
    "plt.plot([y_train.min(), y_train.max()], [y_train.min(), y_train.max()], color='black', linestyle='--')\n",
    "plt.xlabel('True Values')\n",
    "plt.ylabel('Predicted Values')\n",
    "plt.legend()\n",
    "plt.show()\n",
    "#确认结果别用错数据集"
   ]
  },
  {
   "cell_type": "code",
   "execution_count": 11,
   "metadata": {},
   "outputs": [],
   "source": [
    "#运行3\n",
    "y_pre_pred = model.predict(X_pre)\n",
    "pd.DataFrame(y_pre, y_pre_pred).to_csv(\"MR-pre-GBR.csv\")"
   ]
  },
  {
   "cell_type": "code",
   "execution_count": 5,
   "metadata": {},
   "outputs": [],
   "source": [
    "pd.DataFrame(y_train, y_train_pred).to_csv(\"train-GBR-MR.csv\")\n",
    "pd.DataFrame(y_test, y_test_pred).to_csv(\"test-GBR-MR.csv\")"
   ]
  },
  {
   "cell_type": "code",
   "execution_count": null,
   "metadata": {},
   "outputs": [],
   "source": []
  }
 ],
 "metadata": {
  "kernelspec": {
   "display_name": "Python 3 (ipykernel)",
   "language": "python",
   "name": "python3"
  },
  "language_info": {
   "codemirror_mode": {
    "name": "ipython",
    "version": 3
   },
   "file_extension": ".py",
   "mimetype": "text/x-python",
   "name": "python",
   "nbconvert_exporter": "python",
   "pygments_lexer": "ipython3",
   "version": "3.7.11"
  }
 },
 "nbformat": 4,
 "nbformat_minor": 4
}
