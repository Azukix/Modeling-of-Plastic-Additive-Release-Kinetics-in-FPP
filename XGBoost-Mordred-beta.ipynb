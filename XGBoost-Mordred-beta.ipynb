{
 "cells": [
  {
   "cell_type": "code",
   "execution_count": 3,
   "metadata": {
    "scrolled": true
   },
   "outputs": [
    {
     "name": "stderr",
     "output_type": "stream",
     "text": [
      "E:\\Anaconda\\lib\\site-packages\\rdkit\\Chem\\PandasTools.py:416: SettingWithCopyWarning: \n",
      "A value is trying to be set on a copy of a slice from a DataFrame.\n",
      "Try using .loc[row_indexer,col_indexer] = value instead\n",
      "\n",
      "See the caveats in the documentation: https://pandas.pydata.org/pandas-docs/stable/user_guide/indexing.html#returning-a-view-versus-a-copy\n",
      "  frame[molCol] = frame[smilesCol].map(Chem.MolFromSmiles)\n",
      "100%|██████████████████████████████████████████████████████████████████████████████████| 51/51 [00:03<00:00, 14.36it/s]\n",
      "100%|██████████████████████████████████████████████████████████████████████████████████| 12/12 [00:02<00:00,  4.65it/s]\n",
      "100%|████████████████████████████████████████████████████████████████████████████████████| 6/6 [00:01<00:00,  3.45it/s]\n"
     ]
    }
   ],
   "source": [
    "import pandas as pd\n",
    "from mordred import Calculator, descriptors\n",
    "from rdkit import Chem, DataStructs\n",
    "from rdkit.Chem import AllChem\n",
    "from rdkit.ML.Descriptors import MoleculeDescriptors\n",
    "from rdkit.Chem import Descriptors\n",
    "from rdkit.Chem.EState import Fingerprinter\n",
    "from rdkit.Chem import PandasTools\n",
    "from sklearn.preprocessing import StandardScaler \n",
    "\n",
    "# 读取数据表\n",
    "data = pd.read_csv('beta.csv')  # 替换为您的数据表路径和名称\n",
    "pre_data = pd.read_csv('beta-20241016.csv') \n",
    "# 分割训练集和验证集\n",
    "train_data = data[data['group'] == 'training']\n",
    "test_data = data[data['group'] == 'test']\n",
    "\n",
    "PandasTools.AddMoleculeColumnToFrame(train_data,'smiles','Molecule')\n",
    "PandasTools.AddMoleculeColumnToFrame(test_data,'smiles','Molecule')\n",
    "PandasTools.AddMoleculeColumnToFrame(pre_data,'smiles','Molecule')\n",
    "\n",
    "calc = Calculator(descriptors, ignore_3D=True)\n",
    "X_train = pd.DataFrame(calc.pandas(train_data['Molecule']))\n",
    "X_test = pd.DataFrame(calc.pandas(test_data['Molecule']))\n",
    "X_pre = pd.DataFrame(calc.pandas(pre_data['Molecule']))\n",
    "\n",
    "data1=pd.concat([X_train,X_test])\n",
    "data1=pd.concat([data1,X_pre])\n",
    "data1=data1._get_numeric_data()\n",
    "y_train=train_data[train_data.columns[4]].values\n",
    "y_test=test_data[test_data.columns[4]].values\n",
    "y_pre=pre_data[pre_data.columns[4]].values\n",
    "X_train=pd.concat([train_data.iloc[:,5:9],data1.iloc[:51,:]],axis=1)\n",
    "X_test=pd.concat([test_data.iloc[:,5:9],data1.iloc[51:63,:]],axis=1)\n",
    "X_pre=pd.concat([pre_data.iloc[:,5:9],data1.iloc[63:,:]],axis=1)"
   ]
  },
  {
   "cell_type": "code",
   "execution_count": 2,
   "metadata": {},
   "outputs": [
    {
     "name": "stdout",
     "output_type": "stream",
     "text": [
      "100%|████████████████████████████████████████████████████████████| 10/10 [00:17<00:00,  1.74s/it, best loss: 0.2397338]\n",
      "Best Hyperparameters:\n",
      "{'colsample_bytree': 7, 'gamma': 1, 'learning_rate': 1, 'max_depth': 8, 'n_estimators': 0, 'subsample': 7}\n"
     ]
    }
   ],
   "source": [
    "import xgboost as xgb\n",
    "from sklearn.datasets import load_boston\n",
    "from sklearn.metrics import mean_squared_error\n",
    "from hyperopt import hp, fmin, tpe, Trials\n",
    "\n",
    "\n",
    "# 定义超参数搜索空间\n",
    "space = {\n",
    "    'n_estimators': hp.choice('n_estimators',(10,50,100)),\n",
    "    'max_depth': hp.choice('max_depth', (1,2,3,4,5,6,7,8,9, 10)),\n",
    "    'learning_rate': hp.choice('learning_rate', (0.0001,0.001,0.01,0.1,1)),\n",
    "    'subsample': hp.choice('subsample', (0.5,0.55,0.60,0.65,0.70,0.75,0.80,0.85,0.90,0.95, 1)),\n",
    "    'colsample_bytree': hp.choice('colsample_bytree', (0.5,0.55,0.60,0.65,0.70,0.75,0.80,0.85,0.90,0.95, 1)),\n",
    "    'gamma': hp.choice('gamma', (0,1,2,3,4,5,6,7,8,9,10))\n",
    "}\n",
    "\n",
    "# 定义目标函数\n",
    "def objective(params):\n",
    "    # 构建XGBoost模型\n",
    "    model = xgb.XGBRegressor(\n",
    "        n_estimators=params['n_estimators'],\n",
    "        max_depth=params['max_depth'],\n",
    "        subsample=params['subsample'],\n",
    "        colsample_bytree=params['colsample_bytree'],\n",
    "        learning_rate=params['learning_rate'],\n",
    "        gamma=params['gamma']\n",
    "    )\n",
    "\n",
    "    # 进行交叉验证\n",
    "    cv_result = xgb.cv(\n",
    "        model.get_xgb_params(),\n",
    "        xgb.DMatrix(X_train, label=y_train),\n",
    "        nfold=10,\n",
    "        metrics='rmse',\n",
    "        seed=666\n",
    "    )\n",
    "\n",
    "    # 返回交叉验证的均方根误差（RMSE）作为目标值\n",
    "    return cv_result['test-rmse-mean'].iloc[-1]\n",
    "\n",
    "# 运行超参数优化\n",
    "trials = Trials()\n",
    "best = fmin(\n",
    "    objective,\n",
    "    space=space,\n",
    "    algo=tpe.suggest,\n",
    "    max_evals=10,\n",
    "    trials=trials\n",
    ")\n",
    "\n",
    "# 输出最佳超参数组合\n",
    "print(\"Best Hyperparameters:\")\n",
    "print(best)"
   ]
  },
  {
   "cell_type": "code",
   "execution_count": 4,
   "metadata": {},
   "outputs": [
    {
     "name": "stdout",
     "output_type": "stream",
     "text": [
      "Training Set - R2: 0.9999, MAE: 0.0018, RMSE: 0.0027\n",
      "Validation Set - R2: 0.8644, MAE: 0.0407, RMSE: 0.0525\n"
     ]
    },
    {
     "data": {
      "image/png": "[encoded data removed]",
      "text/plain": [
       "<Figure size 432x288 with 1 Axes>"
      ]
     },
     "metadata": {
      "needs_background": "light"
     },
     "output_type": "display_data"
    }
   ],
   "source": [
    "import xgboost as xgb\n",
    "import numpy as np\n",
    "import matplotlib.pyplot as plt\n",
    "from sklearn.metrics import r2_score, mean_absolute_error, mean_squared_error\n",
    "from sklearn.model_selection import train_test_split\n",
    "best_hyperparameters = {}\n",
    "\n",
    "model = xgb.XGBRegressor(**best_hyperparameters)\n",
    "\n",
    "\n",
    "# 训练模型\n",
    "model.fit(X_train, y_train)\n",
    "\n",
    "# 在训练集和验证集上进行预测\n",
    "y_train_pred = model.predict(X_train)\n",
    "y_test_pred = model.predict(X_test)\n",
    "\n",
    "# 计算 R2 分数\n",
    "r2_train = r2_score(y_train, y_train_pred)\n",
    "r2_val = r2_score(y_test, y_test_pred)\n",
    "\n",
    "# 计算 MAE 和 MSE\n",
    "mae_train = mean_absolute_error(y_train, y_train_pred)\n",
    "mae_val = mean_absolute_error(y_test, y_test_pred)\n",
    "rmse_train = np.sqrt(mean_squared_error(y_train, y_train_pred))\n",
    "rmse_val = np.sqrt(mean_squared_error(y_test, y_test_pred))\n",
    "\n",
    "# 打印结果\n",
    "print(\"Training Set - R2: {:.4f}, MAE: {:.4f}, RMSE: {:.4f}\".format(r2_train, mae_train, rmse_train))\n",
    "print(\"Validation Set - R2: {:.4f}, MAE: {:.4f}, RMSE: {:.4f}\".format(r2_val, mae_val, rmse_val))\n",
    "\n",
    "# 绘制散点图\n",
    "plt.scatter(y_train, y_train_pred, color='blue', label='Training Set')\n",
    "plt.scatter(y_test, y_test_pred, color='red', label='Validation Set')\n",
    "plt.plot([y_train.min(), y_train.max()], [y_train.min(), y_train.max()], color='black', linestyle='--')\n",
    "plt.xlabel('True Values')\n",
    "plt.ylabel('Predicted Values')\n",
    "plt.legend()\n",
    "plt.show()"
   ]
  },
  {
   "cell_type": "code",
   "execution_count": 5,
   "metadata": {},
   "outputs": [],
   "source": [
    "y_pre_pred = model.predict(X_pre)\n",
    "pd.DataFrame(y_pre, y_pre_pred).to_csv(\"beta-pre-XG.csv\")"
   ]
  },
  {
   "cell_type": "code",
   "execution_count": 10,
   "metadata": {},
   "outputs": [
    {
     "name": "stdout",
     "output_type": "stream",
     "text": [
      "Cross validation scores:[ -7.86785647 -16.9623038  -70.11479153 -11.21379977  -2.89297386]\n",
      "Mean cross validation score:-21.810345\n"
     ]
    }
   ],
   "source": [
    "from sklearn.model_selection import cross_val_score\n",
    "\n",
    "scores = cross_val_score(model,X_train, y_train,cv=5) #cv：默认是3折交叉验证，可以修改cv=5，变成5折交叉验证。\n",
    "print(\"Cross validation scores:{}\".format(scores))\n",
    "print(\"Mean cross validation score:{:2f}\".format(scores.mean()))\n"
   ]
  },
  {
   "cell_type": "code",
   "execution_count": 5,
   "metadata": {},
   "outputs": [],
   "source": [
    "pd.DataFrame(y_train, y_train_pred).to_csv(\"beta-train-Xgboost.csv\")\n",
    "pd.DataFrame(y_test, y_test_pred).to_csv(\"beta-test-Xgboost.csv\")"
   ]
  },
  {
   "cell_type": "code",
   "execution_count": null,
   "metadata": {},
   "outputs": [],
   "source": []
  },
  {
   "cell_type": "code",
   "execution_count": null,
   "metadata": {},
   "outputs": [],
   "source": []
  }
 ],
 "metadata": {
  "kernelspec": {
   "display_name": "Python 3 (ipykernel)",
   "language": "python",
   "name": "python3"
  },
  "language_info": {
   "codemirror_mode": {
    "name": "ipython",
    "version": 3
   },
   "file_extension": ".py",
   "mimetype": "text/x-python",
   "name": "python",
   "nbconvert_exporter": "python",
   "pygments_lexer": "ipython3",
   "version": "3.7.11"
  }
 },
 "nbformat": 4,
 "nbformat_minor": 4
}
