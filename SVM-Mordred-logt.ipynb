{
 "cells": [
  {
   "cell_type": "code",
   "execution_count": 1,
   "metadata": {},
   "outputs": [
    {
     "name": "stderr",
     "output_type": "stream",
     "text": [
      "E:\\Anaconda\\lib\\site-packages\\rdkit\\Chem\\PandasTools.py:416: SettingWithCopyWarning: \n",
      "A value is trying to be set on a copy of a slice from a DataFrame.\n",
      "Try using .loc[row_indexer,col_indexer] = value instead\n",
      "\n",
      "See the caveats in the documentation: https://pandas.pydata.org/pandas-docs/stable/user_guide/indexing.html#returning-a-view-versus-a-copy\n",
      "  frame[molCol] = frame[smilesCol].map(Chem.MolFromSmiles)\n",
      "100%|██████████████████████████████████████████████████████████████████████████████████| 51/51 [00:03<00:00, 14.30it/s]\n",
      "100%|██████████████████████████████████████████████████████████████████████████████████| 12/12 [00:02<00:00,  4.45it/s]\n",
      "100%|████████████████████████████████████████████████████████████████████████████████████| 6/6 [00:01<00:00,  3.87it/s]\n"
     ]
    }
   ],
   "source": [
    "import pandas as pd\n",
    "from mordred import Calculator, descriptors\n",
    "from rdkit import Chem, DataStructs\n",
    "from rdkit.Chem import AllChem\n",
    "from rdkit.ML.Descriptors import MoleculeDescriptors\n",
    "from rdkit.Chem import Descriptors\n",
    "from rdkit.Chem.EState import Fingerprinter\n",
    "from rdkit.Chem import PandasTools\n",
    "from sklearn.preprocessing import StandardScaler \n",
    "\n",
    "# 读取数据表\n",
    "data = pd.read_csv('t1.csv')  # 替换为您的数据表路径和名称\n",
    "pre_data = pd.read_csv('t1-20241016.csv') \n",
    "# 分割训练集和验证集\n",
    "train_data = data[data['group'] == 'training']\n",
    "test_data = data[data['group'] == 'test']\n",
    "\n",
    "PandasTools.AddMoleculeColumnToFrame(train_data,'smiles','Molecule')\n",
    "PandasTools.AddMoleculeColumnToFrame(test_data,'smiles','Molecule')\n",
    "PandasTools.AddMoleculeColumnToFrame(pre_data,'smiles','Molecule')\n",
    "\n",
    "calc = Calculator(descriptors, ignore_3D=True)\n",
    "X_train = pd.DataFrame(calc.pandas(train_data['Molecule']))\n",
    "X_test = pd.DataFrame(calc.pandas(test_data['Molecule']))\n",
    "X_pre = pd.DataFrame(calc.pandas(pre_data['Molecule']))\n",
    "\n",
    "data1=pd.concat([X_train,X_test])\n",
    "data1=pd.concat([data1,X_pre])\n",
    "data1=data1._get_numeric_data()\n",
    "y_train=train_data[train_data.columns[4]].values\n",
    "y_test=test_data[test_data.columns[4]].values\n",
    "y_pre=pre_data[pre_data.columns[4]].values\n",
    "X_train=pd.concat([train_data.iloc[:,5:9],data1.iloc[:51,:]],axis=1)\n",
    "X_test=pd.concat([test_data.iloc[:,5:9],data1.iloc[51:63,:]],axis=1)\n",
    "X_pre=pd.concat([pre_data.iloc[:,5:9],data1.iloc[63:,:]],axis=1)\n"
   ]
  },
  {
   "cell_type": "code",
   "execution_count": 2,
   "metadata": {},
   "outputs": [],
   "source": [
    "from sklearn.preprocessing import StandardScaler\n",
    "scaler = StandardScaler()\n",
    "X_train = scaler.fit_transform(X_train)\n",
    "X_test = scaler.transform(X_test)\n",
    "X_pre = scaler.transform(X_pre)"
   ]
  },
  {
   "cell_type": "code",
   "execution_count": 14,
   "metadata": {},
   "outputs": [
    {
     "data": {
      "text/plain": [
       "array([[ 0.98058068, -0.58489765, -0.5547002 , ..., -1.54661296,\n",
       "        -1.19902064, -1.42981997],\n",
       "       [ 0.98058068, -0.58489765, -0.5547002 , ..., -0.59070051,\n",
       "         0.30729288, -0.53788281],\n",
       "       [ 0.98058068, -0.58489765, -0.5547002 , ..., -1.74938227,\n",
       "        -1.35279015, -1.61811782],\n",
       "       [ 0.98058068, -0.58489765, -0.5547002 , ..., -0.76450277,\n",
       "        -1.02642222, -1.04331387],\n",
       "       [ 0.98058068, -0.58489765, -0.5547002 , ...,  0.04657446,\n",
       "         0.20373383, -0.21083918],\n",
       "       [ 0.98058068, -0.58489765, -0.5547002 , ...,  2.07426755,\n",
       "         0.98827212,  0.52253138]])"
      ]
     },
     "execution_count": 14,
     "metadata": {},
     "output_type": "execute_result"
    }
   ],
   "source": [
    "X_pre"
   ]
  },
  {
   "cell_type": "code",
   "execution_count": 15,
   "metadata": {},
   "outputs": [
    {
     "name": "stdout",
     "output_type": "stream",
     "text": [
      "100%|███████████████████████████████████████████████████| 50/50 [00:02<00:00, 22.15it/s, best loss: 0.6860867864524929]\n",
      "Best Hyperparameters:\n",
      "{'C': 0.017090616423251388, 'degree': 5.0, 'gamma': 0.0068078887753916266, 'kernel': 3, 'max_iter': 1}\n"
     ]
    }
   ],
   "source": [
    "import warnings\n",
    "import pandas as pd\n",
    "from sklearn.model_selection import KFold \n",
    "from sklearn.model_selection import cross_val_score\n",
    "import sklearn.metrics                                                                                                                                                                                                                                                                                                                                                                                                                                                                                                                                                                                                                                                                                                                                                                                                                                                                                                                                                                                                                                                                                                                                                                                                                                                                                                                                                                                                                                                                                                                                                                                                                                                                                                                                                                                                                                                                                                                                                                                                                                                                                                                                                                                                                                                                                                                                                                                                                                                                                                                                                                                                                                                                                                                                                                                                                                                                                                                                                                                                                                                                                                                                                                                                                                                                                                                                                                                                                                                                                                                                                                                                                                                                                                                                                                                                                                                                                                                                                                                                                                                                                                                                                                                                                                                                                                                                                                                                                                                                                                                                                                                                                                                                                                                                                                                                                                                                                                                                                                                                                                                                                                                                                                                                                                                                                                                                                                                                                                                                                                                                                                                                                                                                                                                                                                                                                                                                                                                                                                                                                                                                                                                                                                                                                                                                                                                                                                                                                                                                                                                                                                                                                                                                                                                                                                                                                                                                                                                                                                                                                                                                                                                                                                                                                                                                                                                                                                                                                                                                                                                                                                                                                                                                                                                                                                                                                                                                                                                                                                                                                                                                                                                                                                                                                                                                                                                                                                                                                                                                                                                                                                                                                                                                                                                                                                                                                                                                                                                                                                                                                                                                                                                                                                                                                                                                                                                                                                                                                                                                                                                                                                                                                                                                                                                                                                                                                                                                                                                                                                                                                                                                                                                                                                                                                                                                                                                                                                                                                                                                                                                                                                                                                                                                                                                                                                                                                                                                                                                                                                                                                                                                                                                                                                                                                                                                                                                                                                                                                                                                                                                                                                                                                                                                                                                                                                                                                                                                                                                                                                                                                                                                                                                                                                                                                                                                                                                                                                                                                                                                                                                                                                                          \n",
    "import numpy as np\n",
    "from sklearn.datasets import load_boston\n",
    "from sklearn.metrics import mean_squared_error\n",
    "from hyperopt import hp, fmin, tpe, Trials\n",
    "\n",
    "from sklearn.svm import SVR\n",
    "\n",
    "# 定义超参数空间\n",
    "space = {\n",
    "    'C': hp.loguniform('C', -5, 2),\n",
    "    'kernel': hp.choice('kernel', ['linear', 'poly', 'rbf', 'sigmoid']),\n",
    "    'degree': hp.quniform('degree', 1, 5, 1),\n",
    "    'gamma': hp.loguniform('gamma', -5, 2),\n",
    "    'max_iter':hp.choice('max_iter', (100,200,300,400,500))\n",
    "}\n",
    "\n",
    "# 定义目标函数\n",
    "def objective(params):\n",
    "    # 构建SVR模型\n",
    "    model = SVR(\n",
    "        C=params['C'],\n",
    "        kernel=params['kernel'],\n",
    "        degree=params['degree'],\n",
    "        max_iter=params['max_iter'],\n",
    "        gamma=params['gamma']\n",
    "    )\n",
    "\n",
    "    # 计算交叉验证的均方根误差（RMSE）\n",
    "    cv_rmse = np.sqrt(-cross_val_score(model, X_train, y_train, cv=10, scoring='neg_mean_squared_error'))\n",
    "\n",
    "    # 返回平均RMSE作为目标值\n",
    "    return np.mean(cv_rmse)\n",
    "\n",
    "# 运行超参数优化\n",
    "trials = Trials()\n",
    "best = fmin(\n",
    "    objective,\n",
    "    space=space,\n",
    "    algo=tpe.suggest,\n",
    "    max_evals=50,\n",
    "    trials=trials\n",
    ")\n",
    "\n",
    "# 输出最佳超参数\n",
    "print(\"Best Hyperparameters:\")\n",
    "print(best)"
   ]
  },
  {
   "cell_type": "code",
   "execution_count": 77,
   "metadata": {},
   "outputs": [
    {
     "name": "stdout",
     "output_type": "stream",
     "text": [
      "Best Hyperparameters:\n",
      "{'C': 0.015306696069640871, 'degree': 1.0, 'gamma': 0.28240403521412416, 'kernel': 0, 'max_iter': 4}\n"
     ]
    }
   ],
   "source": [
    "print(\"Best Hyperparameters:\")\n",
    "print(best)"
   ]
  },
  {
   "cell_type": "code",
   "execution_count": 3,
   "metadata": {},
   "outputs": [
    {
     "name": "stdout",
     "output_type": "stream",
     "text": [
      "Training Set - R2: 0.7008, MAE: 0.2387, RMSE: 0.4145\n",
      "Validation Set - R2: 0.5269, MAE: 0.4451, RMSE: 0.5729\n"
     ]
    },
    {
     "data": {
      "image/png": "[encoded data removed]",
      "text/plain": [
       "<Figure size 432x288 with 1 Axes>"
      ]
     },
     "metadata": {
      "needs_background": "light"
     },
     "output_type": "display_data"
    }
   ],
   "source": [
    "import warnings\n",
    "import numpy as np\n",
    "import pandas as pd\n",
    "import torch\n",
    "import torch.nn as nn\n",
    "import torch.optim as optim\n",
    "from sklearn.model_selection import KFold\n",
    "from sklearn.metrics import mean_squared_error\n",
    "from hyperopt import hp, fmin, tpe, Trials\n",
    "warnings.filterwarnings(\"ignore\")\n",
    "from sklearn.model_selection import cross_val_score\n",
    "import matplotlib.pyplot as plt\n",
    "from sklearn.metrics import r2_score, mean_absolute_error, mean_squared_error\n",
    "from sklearn.model_selection import train_test_split\n",
    "\n",
    "from sklearn.svm import SVR\n",
    "model= SVR(C=1.468119983100809, degree=5.0, gamma= 0.05593755897562893, kernel='rbf', max_iter=300)\n",
    "\n",
    "\n",
    "model.fit(X_train, y_train)\n",
    "\n",
    "# 在训练集和验证集上进行预测\n",
    "y_train_pred = model.predict(X_train)\n",
    "y_test_pred = model.predict(X_test)\n",
    "\n",
    "# 计算 R2 分数\n",
    "r2_train = r2_score(y_train, y_train_pred)\n",
    "r2_val = r2_score(y_test, y_test_pred)\n",
    "\n",
    "# 计算 MAE 和 MSE\n",
    "mae_train = mean_absolute_error(y_train, y_train_pred)\n",
    "mae_val = mean_absolute_error(y_test, y_test_pred)\n",
    "rmse_train = np.sqrt(mean_squared_error(y_train, y_train_pred))\n",
    "rmse_val = np.sqrt(mean_squared_error(y_test, y_test_pred))\n",
    "\n",
    "# 打印结果\n",
    "print(\"Training Set - R2: {:.4f}, MAE: {:.4f}, RMSE: {:.4f}\".format(r2_train, mae_train, rmse_train))\n",
    "print(\"Validation Set - R2: {:.4f}, MAE: {:.4f}, RMSE: {:.4f}\".format(r2_val, mae_val, rmse_val))\n",
    "\n",
    "# 绘制散点图\n",
    "plt.scatter(y_train, y_train_pred, color='blue', label='Training Set')\n",
    "plt.scatter(y_test, y_test_pred, color='red', label='Validation Set')\n",
    "plt.plot([y_train.min(), y_train.max()], [y_train.min(), y_train.max()], color='black', linestyle='--')\n",
    "plt.xlabel('True Values')\n",
    "plt.ylabel('Predicted Values')\n",
    "plt.legend()\n",
    "plt.show()"
   ]
  },
  {
   "cell_type": "code",
   "execution_count": 5,
   "metadata": {},
   "outputs": [],
   "source": [
    "y_pre_pred = model.predict(X_pre)\n",
    "pd.DataFrame(y_pre, y_pre_pred).to_csv(\"logt-pre-SVM.csv\")"
   ]
  },
  {
   "cell_type": "code",
   "execution_count": 18,
   "metadata": {},
   "outputs": [],
   "source": [
    "pd.DataFrame(y_train, y_train_pred).to_csv(\"logt-train-SVM.csv\")\n",
    "pd.DataFrame(y_test, y_test_pred).to_csv(\"logt-test-SVM.csv\")\n",
    "pd.DataFrame(y_pre, y_pre_pred).to_csv(\"logt-pre-SVM.csv\")"
   ]
  },
  {
   "cell_type": "code",
   "execution_count": null,
   "metadata": {},
   "outputs": [],
   "source": [
    "###\n",
    "#SVM1 logt\n",
    "#SVR(C=1.468119983100809, degree=5.0, gamma= 0.05593755897562893, kernel='rbf', max_iter=300)\n",
    "#Training Set - R2: 0.7008, MAE: 0.2387, RMSE: 0.4145\n",
    "#Validation Set - R2: 0.5269, MAE: 0.4452, RMSE: 0.5730\n",
    "###\n",
    "\n",
    "###\n",
    "#SVM2\n"
   ]
  }
 ],
 "metadata": {
  "kernelspec": {
   "display_name": "Python 3 (ipykernel)",
   "language": "python",
   "name": "python3"
  },
  "language_info": {
   "codemirror_mode": {
    "name": "ipython",
    "version": 3
   },
   "file_extension": ".py",
   "mimetype": "text/x-python",
   "name": "python",
   "nbconvert_exporter": "python",
   "pygments_lexer": "ipython3",
   "version": "3.7.11"
  }
 },
 "nbformat": 4,
 "nbformat_minor": 4
}
